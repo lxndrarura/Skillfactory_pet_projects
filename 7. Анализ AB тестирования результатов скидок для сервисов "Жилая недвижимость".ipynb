{
 "cells": [
  {
   "cell_type": "markdown",
   "metadata": {},
   "source": [
    "# Анализ A/B тестирования результатов скидок для сервисов \"Жилая недвижимость\"\n",
    "\n",
    "- [Описание проекта](#project)\n",
    "- [Сбор и подготовка данных](#data)\n",
    "- [Подсчет метрик](#metrics)\n",
    "- [Тестирование гипотез о разности параметров в группах A и B](#hypothesis)\n",
    "    - [Конверсия](#convertion)\n",
    "    - [Средний чек и ARPU](#aov_arpu)\n",
    "- [Отчет](#total)\n"
   ]
  },
  {
   "cell_type": "markdown",
   "metadata": {},
   "source": [
    "<a id=\"project\"></a>\n",
    "## Описание проекта\n",
    "\n",
    "На сайте клининговой компании имеется сервис для владельцев жилой недвижимости, который предоставляет клининговые услуги по модели подписки (на месяц и на год), цены - 200 рублей и 1000 рублей соответственно. Продуктовая команда решила посмотреть каким образом скидки могли бы повлиять на аудиторию. Таким образом, было провелено A/B тестирование, при котором всех неплативших ранее и заходивших в период скидок пользователей поделили на группы А и В. Группе А не давали скидок, а группе В дали скидку 30%. \n",
    "\n",
    "Метрики, на которые влияют скидки: \n",
    "- ARPU \n",
    "- Конверсия \n",
    "- Средний чек (так как из-за скидок пользователи могли изменить структуру приобретения подписок)\n",
    "\n",
    "Задача состоит в том, чтобы подвести итоги А/Б-тестирования, рассчитав, насколько в группах А и Б различаются вышеописанные метрики. \n",
    "\n",
    "Даты проведения тестирования: 2019-08-05 до 2019-08-11\n",
    "\n",
    "ID теста: 127 \n",
    "\n",
    "<b>Описание данных</b>\n",
    "- ab_test_groups - в таблице представлены участники теста с разбивкой на группы\n",
    "- payments - в таблице содежится информация о платежах этих пользователей за время теста\n",
    "\n"
   ]
  },
  {
   "cell_type": "markdown",
   "metadata": {},
   "source": [
    "установка библиотеки в которой хранится метод для импорта файла из гугл диска"
   ]
  },
  {
   "cell_type": "code",
   "execution_count": 54,
   "metadata": {},
   "outputs": [
    {
     "name": "stdout",
     "output_type": "stream",
     "text": [
      "Requirement already satisfied: GoogleDriveDownloader in /Users/lxndrarura/opt/anaconda3/lib/python3.8/site-packages (0.4)\n",
      "Note: you may need to restart the kernel to use updated packages.\n"
     ]
    }
   ],
   "source": [
    "pip install GoogleDriveDownloader"
   ]
  },
  {
   "cell_type": "code",
   "execution_count": 55,
   "metadata": {},
   "outputs": [],
   "source": [
    "# Импорты нужных библиотек и функций\n",
    "\n",
    "from google_drive_downloader import GoogleDriveDownloader as gdd\n",
    "import pandas as pd\n",
    "import numpy as np\n",
    "import matplotlib.pyplot as plt\n",
    "from scipy import stats\n",
    "from scipy.stats import norm\n",
    "from scipy.stats import t\n",
    "from statsmodels.stats.proportion import proportion_confint\n",
    "from statsmodels.stats.weightstats import ztest\n",
    "from statsmodels.stats import weightstats\n",
    "from datetime import datetime\n",
    "import statsmodels.stats.weightstats as ws\n",
    "import math \n"
   ]
  },
  {
   "cell_type": "markdown",
   "metadata": {},
   "source": [
    "<a id=\"data\"></a>\n",
    "## Сбор и подготовка данных"
   ]
  },
  {
   "cell_type": "code",
   "execution_count": 56,
   "metadata": {},
   "outputs": [
    {
     "name": "stdout",
     "output_type": "stream",
     "text": [
      "ab_test_groups\n",
      "<class 'pandas.core.frame.DataFrame'>\n",
      "Int64Index: 153232 entries, 11999 to 165230\n",
      "Data columns (total 3 columns):\n",
      " #   Column      Non-Null Count   Dtype \n",
      "---  ------      --------------   ----- \n",
      " 0   user_id     153232 non-null  int64 \n",
      " 1   grp         153232 non-null  object\n",
      " 2   ab_test_id  153232 non-null  int64 \n",
      "dtypes: int64(2), object(1)\n",
      "memory usage: 4.7+ MB\n",
      "None\n"
     ]
    },
    {
     "data": {
      "text/html": [
       "<div>\n",
       "<style scoped>\n",
       "    .dataframe tbody tr th:only-of-type {\n",
       "        vertical-align: middle;\n",
       "    }\n",
       "\n",
       "    .dataframe tbody tr th {\n",
       "        vertical-align: top;\n",
       "    }\n",
       "\n",
       "    .dataframe thead th {\n",
       "        text-align: right;\n",
       "    }\n",
       "</style>\n",
       "<table border=\"1\" class=\"dataframe\">\n",
       "  <thead>\n",
       "    <tr style=\"text-align: right;\">\n",
       "      <th></th>\n",
       "      <th>user_id</th>\n",
       "      <th>grp</th>\n",
       "      <th>ab_test_id</th>\n",
       "    </tr>\n",
       "  </thead>\n",
       "  <tbody>\n",
       "    <tr>\n",
       "      <th>11999</th>\n",
       "      <td>1</td>\n",
       "      <td>B</td>\n",
       "      <td>127</td>\n",
       "    </tr>\n",
       "    <tr>\n",
       "      <th>12000</th>\n",
       "      <td>2</td>\n",
       "      <td>B</td>\n",
       "      <td>127</td>\n",
       "    </tr>\n",
       "    <tr>\n",
       "      <th>12001</th>\n",
       "      <td>3</td>\n",
       "      <td>B</td>\n",
       "      <td>127</td>\n",
       "    </tr>\n",
       "    <tr>\n",
       "      <th>12002</th>\n",
       "      <td>4</td>\n",
       "      <td>B</td>\n",
       "      <td>127</td>\n",
       "    </tr>\n",
       "    <tr>\n",
       "      <th>12003</th>\n",
       "      <td>5</td>\n",
       "      <td>A</td>\n",
       "      <td>127</td>\n",
       "    </tr>\n",
       "    <tr>\n",
       "      <th>...</th>\n",
       "      <td>...</td>\n",
       "      <td>...</td>\n",
       "      <td>...</td>\n",
       "    </tr>\n",
       "    <tr>\n",
       "      <th>165226</th>\n",
       "      <td>153228</td>\n",
       "      <td>A</td>\n",
       "      <td>127</td>\n",
       "    </tr>\n",
       "    <tr>\n",
       "      <th>165227</th>\n",
       "      <td>153229</td>\n",
       "      <td>B</td>\n",
       "      <td>127</td>\n",
       "    </tr>\n",
       "    <tr>\n",
       "      <th>165228</th>\n",
       "      <td>153230</td>\n",
       "      <td>B</td>\n",
       "      <td>127</td>\n",
       "    </tr>\n",
       "    <tr>\n",
       "      <th>165229</th>\n",
       "      <td>153231</td>\n",
       "      <td>B</td>\n",
       "      <td>127</td>\n",
       "    </tr>\n",
       "    <tr>\n",
       "      <th>165230</th>\n",
       "      <td>153232</td>\n",
       "      <td>B</td>\n",
       "      <td>127</td>\n",
       "    </tr>\n",
       "  </tbody>\n",
       "</table>\n",
       "<p>153232 rows × 3 columns</p>\n",
       "</div>"
      ],
      "text/plain": [
       "        user_id grp  ab_test_id\n",
       "11999         1   B         127\n",
       "12000         2   B         127\n",
       "12001         3   B         127\n",
       "12002         4   B         127\n",
       "12003         5   A         127\n",
       "...         ...  ..         ...\n",
       "165226   153228   A         127\n",
       "165227   153229   B         127\n",
       "165228   153230   B         127\n",
       "165229   153231   B         127\n",
       "165230   153232   B         127\n",
       "\n",
       "[153232 rows x 3 columns]"
      ]
     },
     "metadata": {},
     "output_type": "display_data"
    },
    {
     "name": "stdout",
     "output_type": "stream",
     "text": [
      "<class 'pandas.core.frame.DataFrame'>\n",
      "Int64Index: 153232 entries, 11999 to 165230\n",
      "Data columns (total 3 columns):\n",
      " #   Column      Non-Null Count   Dtype \n",
      "---  ------      --------------   ----- \n",
      " 0   user_id     153232 non-null  int64 \n",
      " 1   grp         153232 non-null  object\n",
      " 2   ab_test_id  153232 non-null  int64 \n",
      "dtypes: int64(2), object(1)\n",
      "memory usage: 4.7+ MB\n",
      "None\n",
      "\n",
      "payments\n",
      "<class 'pandas.core.frame.DataFrame'>\n",
      "RangeIndex: 14639 entries, 0 to 14638\n",
      "Data columns (total 5 columns):\n",
      " #   Column      Non-Null Count  Dtype  \n",
      "---  ------      --------------  -----  \n",
      " 0   payment_id  14639 non-null  int64  \n",
      " 1   user_id     14639 non-null  int64  \n",
      " 2   price       14639 non-null  float64\n",
      " 3   created_at  14639 non-null  object \n",
      " 4   tariff      14639 non-null  object \n",
      "dtypes: float64(1), int64(2), object(2)\n",
      "memory usage: 572.0+ KB\n",
      "None\n"
     ]
    },
    {
     "data": {
      "text/html": [
       "<div>\n",
       "<style scoped>\n",
       "    .dataframe tbody tr th:only-of-type {\n",
       "        vertical-align: middle;\n",
       "    }\n",
       "\n",
       "    .dataframe tbody tr th {\n",
       "        vertical-align: top;\n",
       "    }\n",
       "\n",
       "    .dataframe thead th {\n",
       "        text-align: right;\n",
       "    }\n",
       "</style>\n",
       "<table border=\"1\" class=\"dataframe\">\n",
       "  <thead>\n",
       "    <tr style=\"text-align: right;\">\n",
       "      <th></th>\n",
       "      <th>payment_id</th>\n",
       "      <th>user_id</th>\n",
       "      <th>price</th>\n",
       "      <th>created_at</th>\n",
       "      <th>tariff</th>\n",
       "    </tr>\n",
       "  </thead>\n",
       "  <tbody>\n",
       "    <tr>\n",
       "      <th>0</th>\n",
       "      <td>1</td>\n",
       "      <td>77831</td>\n",
       "      <td>200.0</td>\n",
       "      <td>2019-08-05 00:00:54</td>\n",
       "      <td>month</td>\n",
       "    </tr>\n",
       "    <tr>\n",
       "      <th>1</th>\n",
       "      <td>2</td>\n",
       "      <td>84576</td>\n",
       "      <td>200.0</td>\n",
       "      <td>2019-08-05 00:01:05</td>\n",
       "      <td>month</td>\n",
       "    </tr>\n",
       "    <tr>\n",
       "      <th>2</th>\n",
       "      <td>3</td>\n",
       "      <td>40981</td>\n",
       "      <td>140.0</td>\n",
       "      <td>2019-08-05 00:03:47</td>\n",
       "      <td>month_30off</td>\n",
       "    </tr>\n",
       "    <tr>\n",
       "      <th>3</th>\n",
       "      <td>4</td>\n",
       "      <td>130565</td>\n",
       "      <td>140.0</td>\n",
       "      <td>2019-08-05 00:09:33</td>\n",
       "      <td>month_30off</td>\n",
       "    </tr>\n",
       "    <tr>\n",
       "      <th>4</th>\n",
       "      <td>5</td>\n",
       "      <td>34758</td>\n",
       "      <td>700.0</td>\n",
       "      <td>2019-08-05 00:12:16</td>\n",
       "      <td>year_30off</td>\n",
       "    </tr>\n",
       "    <tr>\n",
       "      <th>...</th>\n",
       "      <td>...</td>\n",
       "      <td>...</td>\n",
       "      <td>...</td>\n",
       "      <td>...</td>\n",
       "      <td>...</td>\n",
       "    </tr>\n",
       "    <tr>\n",
       "      <th>14634</th>\n",
       "      <td>14635</td>\n",
       "      <td>9924</td>\n",
       "      <td>130.0</td>\n",
       "      <td>2019-08-18 22:54:57</td>\n",
       "      <td>month_35off</td>\n",
       "    </tr>\n",
       "    <tr>\n",
       "      <th>14635</th>\n",
       "      <td>14636</td>\n",
       "      <td>3722</td>\n",
       "      <td>650.0</td>\n",
       "      <td>2019-08-18 22:59:37</td>\n",
       "      <td>year_35off</td>\n",
       "    </tr>\n",
       "    <tr>\n",
       "      <th>14636</th>\n",
       "      <td>14637</td>\n",
       "      <td>5571</td>\n",
       "      <td>200.0</td>\n",
       "      <td>2019-08-18 23:02:54</td>\n",
       "      <td>month</td>\n",
       "    </tr>\n",
       "    <tr>\n",
       "      <th>14637</th>\n",
       "      <td>14638</td>\n",
       "      <td>11044</td>\n",
       "      <td>200.0</td>\n",
       "      <td>2019-08-18 23:13:54</td>\n",
       "      <td>month</td>\n",
       "    </tr>\n",
       "    <tr>\n",
       "      <th>14638</th>\n",
       "      <td>14639</td>\n",
       "      <td>10056</td>\n",
       "      <td>130.0</td>\n",
       "      <td>2019-08-18 23:37:19</td>\n",
       "      <td>month_35off</td>\n",
       "    </tr>\n",
       "  </tbody>\n",
       "</table>\n",
       "<p>14639 rows × 5 columns</p>\n",
       "</div>"
      ],
      "text/plain": [
       "       payment_id  user_id  price           created_at       tariff\n",
       "0               1    77831  200.0  2019-08-05 00:00:54        month\n",
       "1               2    84576  200.0  2019-08-05 00:01:05        month\n",
       "2               3    40981  140.0  2019-08-05 00:03:47  month_30off\n",
       "3               4   130565  140.0  2019-08-05 00:09:33  month_30off\n",
       "4               5    34758  700.0  2019-08-05 00:12:16   year_30off\n",
       "...           ...      ...    ...                  ...          ...\n",
       "14634       14635     9924  130.0  2019-08-18 22:54:57  month_35off\n",
       "14635       14636     3722  650.0  2019-08-18 22:59:37   year_35off\n",
       "14636       14637     5571  200.0  2019-08-18 23:02:54        month\n",
       "14637       14638    11044  200.0  2019-08-18 23:13:54        month\n",
       "14638       14639    10056  130.0  2019-08-18 23:37:19  month_35off\n",
       "\n",
       "[14639 rows x 5 columns]"
      ]
     },
     "metadata": {},
     "output_type": "display_data"
    }
   ],
   "source": [
    "# импорт файлов из гугл диска\n",
    "gdd.download_file_from_google_drive(file_id='11YkCpuhJnWT_6qcnPaWduxLMkJKFJGyH',\n",
    "                                    dest_path='./ab_test_groups.csv',\n",
    "                                    unzip=True)\n",
    "\n",
    "gdd.download_file_from_google_drive(file_id='1dkEJaheXKo4WBonsDpU_8NJA8WHg8Onm',\n",
    "                                    dest_path='./payments.csv',\n",
    "                                    unzip=True)\n",
    "\n",
    "\n",
    "# сохраняем скаченные таблицы в датафреймы\n",
    "ab_test_groups = pd.read_csv('ab_test_groups.csv')\n",
    "ab_test_groups = ab_test_groups[ab_test_groups['ab_test_id']==127] # Так как ID нужного теста 127, выберем только такие строки.\n",
    "payments = pd.read_csv('payments.csv')\n",
    "print('ab_test_groups')\n",
    "print(ab_test_groups.info())\n",
    "display(ab_test_groups)\n",
    "print(ab_test_groups.info())\n",
    "print()\n",
    "print('payments')\n",
    "print(payments.info())\n",
    "display(payments)\n",
    "\n",
    "\n"
   ]
  },
  {
   "cell_type": "markdown",
   "metadata": {},
   "source": [
    "ab_test_groups - таблица пользователей\n",
    "\n",
    "- user_id\t- идентификатор пользователя\n",
    "- grp -\tгруппа пользователя в А/В-тесте\n",
    "- ab_test_id- идентификатор А/В-теста, в котором принимает участие пользователь\n",
    "\n",
    "payments - таблица платежей\n",
    "\n",
    "- payment_id - идентификатор платежа\n",
    "- user_id - идентификатор пользователя\n",
    "- price - цена товара\n",
    "- created_at - дата размещения заказа \n",
    "- tariff - тариф или тип заказа\n"
   ]
  },
  {
   "cell_type": "code",
   "execution_count": 57,
   "metadata": {},
   "outputs": [
    {
     "name": "stdout",
     "output_type": "stream",
     "text": [
      "<class 'pandas.core.frame.DataFrame'>\n",
      "RangeIndex: 14639 entries, 0 to 14638\n",
      "Data columns (total 5 columns):\n",
      " #   Column      Non-Null Count  Dtype         \n",
      "---  ------      --------------  -----         \n",
      " 0   payment_id  14639 non-null  int64         \n",
      " 1   user_id     14639 non-null  int64         \n",
      " 2   price       14639 non-null  float64       \n",
      " 3   created_at  14639 non-null  datetime64[ns]\n",
      " 4   tariff      14639 non-null  object        \n",
      "dtypes: datetime64[ns](1), float64(1), int64(2), object(1)\n",
      "memory usage: 572.0+ KB\n",
      "None\n"
     ]
    }
   ],
   "source": [
    "# так как дата создания заказа имеет тип object, переведем его в datetime\n",
    "payments['created_at'] = pd.to_datetime(payments['created_at'])\n",
    "print(payments.info())\n",
    "\n",
    "\n"
   ]
  },
  {
   "cell_type": "markdown",
   "metadata": {},
   "source": [
    "<a id=\"metrics\"></a>\n",
    "## Подсчет метрик"
   ]
  },
  {
   "cell_type": "markdown",
   "metadata": {},
   "source": [
    "Название тарифа и дата совершения платежа не нужны для результатов А/В-теста. Поэтому нас будут интересовать только поля user_id и price. Также у нас ограничен период проведения теста — датами 2019-08-05 и 2019-08-11.\n",
    "\n",
    "Выберем необходимые данные: проведём фильтрацию по дате через приведение столбца created_at к строковому типу данных. (Можно применять и другие подходы, но при таком формате данных такой способ самый простой.)"
   ]
  },
  {
   "cell_type": "code",
   "execution_count": 58,
   "metadata": {},
   "outputs": [
    {
     "data": {
      "text/html": [
       "<div>\n",
       "<style scoped>\n",
       "    .dataframe tbody tr th:only-of-type {\n",
       "        vertical-align: middle;\n",
       "    }\n",
       "\n",
       "    .dataframe tbody tr th {\n",
       "        vertical-align: top;\n",
       "    }\n",
       "\n",
       "    .dataframe thead th {\n",
       "        text-align: right;\n",
       "    }\n",
       "</style>\n",
       "<table border=\"1\" class=\"dataframe\">\n",
       "  <thead>\n",
       "    <tr style=\"text-align: right;\">\n",
       "      <th></th>\n",
       "      <th>user_id</th>\n",
       "      <th>price</th>\n",
       "    </tr>\n",
       "  </thead>\n",
       "  <tbody>\n",
       "    <tr>\n",
       "      <th>0</th>\n",
       "      <td>77831</td>\n",
       "      <td>200.0</td>\n",
       "    </tr>\n",
       "    <tr>\n",
       "      <th>1</th>\n",
       "      <td>84576</td>\n",
       "      <td>200.0</td>\n",
       "    </tr>\n",
       "    <tr>\n",
       "      <th>2</th>\n",
       "      <td>40981</td>\n",
       "      <td>140.0</td>\n",
       "    </tr>\n",
       "    <tr>\n",
       "      <th>3</th>\n",
       "      <td>130565</td>\n",
       "      <td>140.0</td>\n",
       "    </tr>\n",
       "    <tr>\n",
       "      <th>4</th>\n",
       "      <td>34758</td>\n",
       "      <td>700.0</td>\n",
       "    </tr>\n",
       "    <tr>\n",
       "      <th>...</th>\n",
       "      <td>...</td>\n",
       "      <td>...</td>\n",
       "    </tr>\n",
       "    <tr>\n",
       "      <th>13701</th>\n",
       "      <td>2313</td>\n",
       "      <td>140.0</td>\n",
       "    </tr>\n",
       "    <tr>\n",
       "      <th>13702</th>\n",
       "      <td>139246</td>\n",
       "      <td>700.0</td>\n",
       "    </tr>\n",
       "    <tr>\n",
       "      <th>13703</th>\n",
       "      <td>42885</td>\n",
       "      <td>200.0</td>\n",
       "    </tr>\n",
       "    <tr>\n",
       "      <th>13704</th>\n",
       "      <td>129593</td>\n",
       "      <td>700.0</td>\n",
       "    </tr>\n",
       "    <tr>\n",
       "      <th>13705</th>\n",
       "      <td>23362</td>\n",
       "      <td>200.0</td>\n",
       "    </tr>\n",
       "  </tbody>\n",
       "</table>\n",
       "<p>13706 rows × 2 columns</p>\n",
       "</div>"
      ],
      "text/plain": [
       "       user_id  price\n",
       "0        77831  200.0\n",
       "1        84576  200.0\n",
       "2        40981  140.0\n",
       "3       130565  140.0\n",
       "4        34758  700.0\n",
       "...        ...    ...\n",
       "13701     2313  140.0\n",
       "13702   139246  700.0\n",
       "13703    42885  200.0\n",
       "13704   129593  700.0\n",
       "13705    23362  200.0\n",
       "\n",
       "[13706 rows x 2 columns]"
      ]
     },
     "execution_count": 58,
     "metadata": {},
     "output_type": "execute_result"
    }
   ],
   "source": [
    "payments = payments[(payments['created_at']>='2019-08-05') & (payments['created_at']<'2019-08-12')][['user_id','price']]\n",
    "payments\n",
    "\n",
    "\n"
   ]
  },
  {
   "cell_type": "markdown",
   "metadata": {},
   "source": [
    "Как мы видим, данные устроены довольно просто: нам достаточно соединить эти две таблицы, чтобы осталась сводная информация обо всех участниках теста и покупках каждого из них за время теста."
   ]
  },
  {
   "cell_type": "code",
   "execution_count": 59,
   "metadata": {},
   "outputs": [
    {
     "data": {
      "text/html": [
       "<div>\n",
       "<style scoped>\n",
       "    .dataframe tbody tr th:only-of-type {\n",
       "        vertical-align: middle;\n",
       "    }\n",
       "\n",
       "    .dataframe tbody tr th {\n",
       "        vertical-align: top;\n",
       "    }\n",
       "\n",
       "    .dataframe thead th {\n",
       "        text-align: right;\n",
       "    }\n",
       "</style>\n",
       "<table border=\"1\" class=\"dataframe\">\n",
       "  <thead>\n",
       "    <tr style=\"text-align: right;\">\n",
       "      <th></th>\n",
       "      <th>user_id</th>\n",
       "      <th>price</th>\n",
       "    </tr>\n",
       "  </thead>\n",
       "  <tbody>\n",
       "    <tr>\n",
       "      <th>0</th>\n",
       "      <td>1</td>\n",
       "      <td>140.0</td>\n",
       "    </tr>\n",
       "    <tr>\n",
       "      <th>1</th>\n",
       "      <td>10</td>\n",
       "      <td>140.0</td>\n",
       "    </tr>\n",
       "    <tr>\n",
       "      <th>2</th>\n",
       "      <td>23</td>\n",
       "      <td>140.0</td>\n",
       "    </tr>\n",
       "    <tr>\n",
       "      <th>3</th>\n",
       "      <td>24</td>\n",
       "      <td>700.0</td>\n",
       "    </tr>\n",
       "    <tr>\n",
       "      <th>4</th>\n",
       "      <td>39</td>\n",
       "      <td>140.0</td>\n",
       "    </tr>\n",
       "    <tr>\n",
       "      <th>...</th>\n",
       "      <td>...</td>\n",
       "      <td>...</td>\n",
       "    </tr>\n",
       "    <tr>\n",
       "      <th>13701</th>\n",
       "      <td>153184</td>\n",
       "      <td>140.0</td>\n",
       "    </tr>\n",
       "    <tr>\n",
       "      <th>13702</th>\n",
       "      <td>153190</td>\n",
       "      <td>140.0</td>\n",
       "    </tr>\n",
       "    <tr>\n",
       "      <th>13703</th>\n",
       "      <td>153205</td>\n",
       "      <td>140.0</td>\n",
       "    </tr>\n",
       "    <tr>\n",
       "      <th>13704</th>\n",
       "      <td>153212</td>\n",
       "      <td>700.0</td>\n",
       "    </tr>\n",
       "    <tr>\n",
       "      <th>13705</th>\n",
       "      <td>153215</td>\n",
       "      <td>140.0</td>\n",
       "    </tr>\n",
       "  </tbody>\n",
       "</table>\n",
       "<p>13706 rows × 2 columns</p>\n",
       "</div>"
      ],
      "text/plain": [
       "       user_id  price\n",
       "0            1  140.0\n",
       "1           10  140.0\n",
       "2           23  140.0\n",
       "3           24  700.0\n",
       "4           39  140.0\n",
       "...        ...    ...\n",
       "13701   153184  140.0\n",
       "13702   153190  140.0\n",
       "13703   153205  140.0\n",
       "13704   153212  700.0\n",
       "13705   153215  140.0\n",
       "\n",
       "[13706 rows x 2 columns]"
      ]
     },
     "execution_count": 59,
     "metadata": {},
     "output_type": "execute_result"
    }
   ],
   "source": [
    "# сгруппируем цену по юзер ид, так как у пользователя может быть несколько позиций покупок \n",
    "payments = payments.groupby(['user_id'], as_index = False)['price'].sum()\n",
    "payments\n"
   ]
  },
  {
   "cell_type": "markdown",
   "metadata": {},
   "source": [
    "Cоединим эти две таблицы, чтобы осталась сводная информация обо всех участниках теста и покупках каждого из них за время теста."
   ]
  },
  {
   "cell_type": "code",
   "execution_count": 60,
   "metadata": {},
   "outputs": [
    {
     "data": {
      "text/html": [
       "<div>\n",
       "<style scoped>\n",
       "    .dataframe tbody tr th:only-of-type {\n",
       "        vertical-align: middle;\n",
       "    }\n",
       "\n",
       "    .dataframe tbody tr th {\n",
       "        vertical-align: top;\n",
       "    }\n",
       "\n",
       "    .dataframe thead th {\n",
       "        text-align: right;\n",
       "    }\n",
       "</style>\n",
       "<table border=\"1\" class=\"dataframe\">\n",
       "  <thead>\n",
       "    <tr style=\"text-align: right;\">\n",
       "      <th></th>\n",
       "      <th>user_id</th>\n",
       "      <th>grp</th>\n",
       "      <th>ab_test_id</th>\n",
       "      <th>price</th>\n",
       "    </tr>\n",
       "  </thead>\n",
       "  <tbody>\n",
       "    <tr>\n",
       "      <th>0</th>\n",
       "      <td>1</td>\n",
       "      <td>B</td>\n",
       "      <td>127</td>\n",
       "      <td>140.0</td>\n",
       "    </tr>\n",
       "    <tr>\n",
       "      <th>1</th>\n",
       "      <td>2</td>\n",
       "      <td>B</td>\n",
       "      <td>127</td>\n",
       "      <td>NaN</td>\n",
       "    </tr>\n",
       "    <tr>\n",
       "      <th>2</th>\n",
       "      <td>3</td>\n",
       "      <td>B</td>\n",
       "      <td>127</td>\n",
       "      <td>NaN</td>\n",
       "    </tr>\n",
       "    <tr>\n",
       "      <th>3</th>\n",
       "      <td>4</td>\n",
       "      <td>B</td>\n",
       "      <td>127</td>\n",
       "      <td>NaN</td>\n",
       "    </tr>\n",
       "    <tr>\n",
       "      <th>4</th>\n",
       "      <td>5</td>\n",
       "      <td>A</td>\n",
       "      <td>127</td>\n",
       "      <td>NaN</td>\n",
       "    </tr>\n",
       "    <tr>\n",
       "      <th>...</th>\n",
       "      <td>...</td>\n",
       "      <td>...</td>\n",
       "      <td>...</td>\n",
       "      <td>...</td>\n",
       "    </tr>\n",
       "    <tr>\n",
       "      <th>153227</th>\n",
       "      <td>153228</td>\n",
       "      <td>A</td>\n",
       "      <td>127</td>\n",
       "      <td>NaN</td>\n",
       "    </tr>\n",
       "    <tr>\n",
       "      <th>153228</th>\n",
       "      <td>153229</td>\n",
       "      <td>B</td>\n",
       "      <td>127</td>\n",
       "      <td>NaN</td>\n",
       "    </tr>\n",
       "    <tr>\n",
       "      <th>153229</th>\n",
       "      <td>153230</td>\n",
       "      <td>B</td>\n",
       "      <td>127</td>\n",
       "      <td>NaN</td>\n",
       "    </tr>\n",
       "    <tr>\n",
       "      <th>153230</th>\n",
       "      <td>153231</td>\n",
       "      <td>B</td>\n",
       "      <td>127</td>\n",
       "      <td>NaN</td>\n",
       "    </tr>\n",
       "    <tr>\n",
       "      <th>153231</th>\n",
       "      <td>153232</td>\n",
       "      <td>B</td>\n",
       "      <td>127</td>\n",
       "      <td>NaN</td>\n",
       "    </tr>\n",
       "  </tbody>\n",
       "</table>\n",
       "<p>153232 rows × 4 columns</p>\n",
       "</div>"
      ],
      "text/plain": [
       "        user_id grp  ab_test_id  price\n",
       "0             1   B         127  140.0\n",
       "1             2   B         127    NaN\n",
       "2             3   B         127    NaN\n",
       "3             4   B         127    NaN\n",
       "4             5   A         127    NaN\n",
       "...         ...  ..         ...    ...\n",
       "153227   153228   A         127    NaN\n",
       "153228   153229   B         127    NaN\n",
       "153229   153230   B         127    NaN\n",
       "153230   153231   B         127    NaN\n",
       "153231   153232   B         127    NaN\n",
       "\n",
       "[153232 rows x 4 columns]"
      ]
     },
     "execution_count": 60,
     "metadata": {},
     "output_type": "execute_result"
    }
   ],
   "source": [
    "ab_data = ab_test_groups.merge(payments, on = 'user_id', how = 'left')\n",
    "ab_data\n"
   ]
  },
  {
   "cell_type": "markdown",
   "metadata": {},
   "source": [
    "посмотрим, в каких пропорциях разбиты пользователи на группы и какое количество пользователей в каждой группе что-то купило:"
   ]
  },
  {
   "cell_type": "code",
   "execution_count": 61,
   "metadata": {},
   "outputs": [
    {
     "data": {
      "text/html": [
       "<div>\n",
       "<style scoped>\n",
       "    .dataframe tbody tr th:only-of-type {\n",
       "        vertical-align: middle;\n",
       "    }\n",
       "\n",
       "    .dataframe tbody tr th {\n",
       "        vertical-align: top;\n",
       "    }\n",
       "\n",
       "    .dataframe thead th {\n",
       "        text-align: right;\n",
       "    }\n",
       "</style>\n",
       "<table border=\"1\" class=\"dataframe\">\n",
       "  <thead>\n",
       "    <tr style=\"text-align: right;\">\n",
       "      <th></th>\n",
       "      <th>grp</th>\n",
       "      <th>users_count</th>\n",
       "      <th>buyers_count</th>\n",
       "    </tr>\n",
       "  </thead>\n",
       "  <tbody>\n",
       "    <tr>\n",
       "      <th>0</th>\n",
       "      <td>A</td>\n",
       "      <td>76605</td>\n",
       "      <td>4279</td>\n",
       "    </tr>\n",
       "    <tr>\n",
       "      <th>1</th>\n",
       "      <td>B</td>\n",
       "      <td>76627</td>\n",
       "      <td>9427</td>\n",
       "    </tr>\n",
       "  </tbody>\n",
       "</table>\n",
       "</div>"
      ],
      "text/plain": [
       "  grp  users_count  buyers_count\n",
       "0   A        76605          4279\n",
       "1   B        76627          9427"
      ]
     },
     "execution_count": 61,
     "metadata": {},
     "output_type": "execute_result"
    }
   ],
   "source": [
    "ab_summary = ab_data.groupby(['grp'], as_index = False)[['user_id','price']].count()\n",
    "ab_summary = ab_summary.rename(columns={'user_id':'users_count', 'price':'buyers_count'})\n",
    "ab_summary\n",
    "\n"
   ]
  },
  {
   "cell_type": "markdown",
   "metadata": {},
   "source": [
    "Посчитаем долю пользователей в каждой группе"
   ]
  },
  {
   "cell_type": "code",
   "execution_count": 62,
   "metadata": {},
   "outputs": [
    {
     "data": {
      "text/html": [
       "<div>\n",
       "<style scoped>\n",
       "    .dataframe tbody tr th:only-of-type {\n",
       "        vertical-align: middle;\n",
       "    }\n",
       "\n",
       "    .dataframe tbody tr th {\n",
       "        vertical-align: top;\n",
       "    }\n",
       "\n",
       "    .dataframe thead th {\n",
       "        text-align: right;\n",
       "    }\n",
       "</style>\n",
       "<table border=\"1\" class=\"dataframe\">\n",
       "  <thead>\n",
       "    <tr style=\"text-align: right;\">\n",
       "      <th></th>\n",
       "      <th>grp</th>\n",
       "      <th>users_count</th>\n",
       "      <th>buyers_count</th>\n",
       "      <th>users_count_share</th>\n",
       "      <th>buyers_count_share</th>\n",
       "      <th>conversion</th>\n",
       "    </tr>\n",
       "  </thead>\n",
       "  <tbody>\n",
       "    <tr>\n",
       "      <th>0</th>\n",
       "      <td>A</td>\n",
       "      <td>76605</td>\n",
       "      <td>4279</td>\n",
       "      <td>0.499928</td>\n",
       "      <td>0.312199</td>\n",
       "      <td>0.055858</td>\n",
       "    </tr>\n",
       "    <tr>\n",
       "      <th>1</th>\n",
       "      <td>B</td>\n",
       "      <td>76627</td>\n",
       "      <td>9427</td>\n",
       "      <td>0.500072</td>\n",
       "      <td>0.687801</td>\n",
       "      <td>0.123025</td>\n",
       "    </tr>\n",
       "  </tbody>\n",
       "</table>\n",
       "</div>"
      ],
      "text/plain": [
       "  grp  users_count  buyers_count  users_count_share  buyers_count_share  \\\n",
       "0   A        76605          4279           0.499928            0.312199   \n",
       "1   B        76627          9427           0.500072            0.687801   \n",
       "\n",
       "   conversion  \n",
       "0    0.055858  \n",
       "1    0.123025  "
      ]
     },
     "execution_count": 62,
     "metadata": {},
     "output_type": "execute_result"
    }
   ],
   "source": [
    "ab_summary['users_count_share'] = ab_summary['users_count']/ab_summary['users_count'].sum()\n",
    "ab_summary['buyers_count_share'] = ab_summary['buyers_count']/ab_summary['buyers_count'].sum()\n",
    "ab_summary['conversion'] = (ab_summary['buyers_count'] / ab_summary['users_count'])\n",
    "ab_summary\n"
   ]
  },
  {
   "cell_type": "markdown",
   "metadata": {},
   "source": [
    "Как мы видим, в обоих группах по 50% пользователей, из чего можем сделать вывод, что использована разбивка 50/50. При этом количество покупателей существенно различается (в группе B покупателей больше чем в группе A более чем в два раза).\n",
    "Конверсия также серьёзно различается: в первой группе она составляет 5,6 %, а во второй — 12,3 %\n",
    "\n",
    "\n",
    "посчитаем средний чек покупки в каждой группе"
   ]
  },
  {
   "cell_type": "code",
   "execution_count": 63,
   "metadata": {},
   "outputs": [
    {
     "data": {
      "text/html": [
       "<div>\n",
       "<style scoped>\n",
       "    .dataframe tbody tr th:only-of-type {\n",
       "        vertical-align: middle;\n",
       "    }\n",
       "\n",
       "    .dataframe tbody tr th {\n",
       "        vertical-align: top;\n",
       "    }\n",
       "\n",
       "    .dataframe thead th {\n",
       "        text-align: right;\n",
       "    }\n",
       "</style>\n",
       "<table border=\"1\" class=\"dataframe\">\n",
       "  <thead>\n",
       "    <tr style=\"text-align: right;\">\n",
       "      <th></th>\n",
       "      <th>grp</th>\n",
       "      <th>users_count</th>\n",
       "      <th>buyers_count</th>\n",
       "      <th>users_count_share</th>\n",
       "      <th>buyers_count_share</th>\n",
       "      <th>conversion</th>\n",
       "      <th>avg_bill</th>\n",
       "    </tr>\n",
       "  </thead>\n",
       "  <tbody>\n",
       "    <tr>\n",
       "      <th>0</th>\n",
       "      <td>A</td>\n",
       "      <td>76605</td>\n",
       "      <td>4279</td>\n",
       "      <td>0.499928</td>\n",
       "      <td>0.312199</td>\n",
       "      <td>0.055858</td>\n",
       "      <td>396.120589</td>\n",
       "    </tr>\n",
       "    <tr>\n",
       "      <th>1</th>\n",
       "      <td>B</td>\n",
       "      <td>76627</td>\n",
       "      <td>9427</td>\n",
       "      <td>0.500072</td>\n",
       "      <td>0.687801</td>\n",
       "      <td>0.123025</td>\n",
       "      <td>348.804498</td>\n",
       "    </tr>\n",
       "  </tbody>\n",
       "</table>\n",
       "</div>"
      ],
      "text/plain": [
       "  grp  users_count  buyers_count  users_count_share  buyers_count_share  \\\n",
       "0   A        76605          4279           0.499928            0.312199   \n",
       "1   B        76627          9427           0.500072            0.687801   \n",
       "\n",
       "   conversion    avg_bill  \n",
       "0    0.055858  396.120589  \n",
       "1    0.123025  348.804498  "
      ]
     },
     "execution_count": 63,
     "metadata": {},
     "output_type": "execute_result"
    }
   ],
   "source": [
    "ab_summary = ab_summary.merge(ab_data.groupby(['grp'],as_index = False)['price'].mean().rename(columns = {'price':'avg_bill'}), \n",
    "                on = 'grp', how='left')\n",
    "\n",
    "ab_summary\n"
   ]
  },
  {
   "cell_type": "markdown",
   "metadata": {},
   "source": [
    "Несмотря на то что скидка в группе Б составляет 30%, средний чек упал на ~12%.\n",
    "Осталось подсчитать ARPU пользователей (среднюю выручку на пользователя в группе), а также дополнительную выручку, которую принесла группа Б.\n",
    "\n",
    "\n",
    "Дополнительная выручка — это выручка, которую пользователи принесли дополнительно, если считать базовой выручку всех пользователей с ARPU, равным ARPU в контрольной группе.\n"
   ]
  },
  {
   "cell_type": "code",
   "execution_count": 64,
   "metadata": {},
   "outputs": [
    {
     "data": {
      "text/html": [
       "<div>\n",
       "<style scoped>\n",
       "    .dataframe tbody tr th:only-of-type {\n",
       "        vertical-align: middle;\n",
       "    }\n",
       "\n",
       "    .dataframe tbody tr th {\n",
       "        vertical-align: top;\n",
       "    }\n",
       "\n",
       "    .dataframe thead th {\n",
       "        text-align: right;\n",
       "    }\n",
       "</style>\n",
       "<table border=\"1\" class=\"dataframe\">\n",
       "  <thead>\n",
       "    <tr style=\"text-align: right;\">\n",
       "      <th></th>\n",
       "      <th>grp</th>\n",
       "      <th>users_count</th>\n",
       "      <th>buyers_count</th>\n",
       "      <th>users_count_share</th>\n",
       "      <th>buyers_count_share</th>\n",
       "      <th>conversion</th>\n",
       "      <th>avg_bill</th>\n",
       "      <th>revenue</th>\n",
       "    </tr>\n",
       "  </thead>\n",
       "  <tbody>\n",
       "    <tr>\n",
       "      <th>0</th>\n",
       "      <td>A</td>\n",
       "      <td>76605</td>\n",
       "      <td>4279</td>\n",
       "      <td>0.499928</td>\n",
       "      <td>0.312199</td>\n",
       "      <td>0.055858</td>\n",
       "      <td>396.120589</td>\n",
       "      <td>1695000.0</td>\n",
       "    </tr>\n",
       "    <tr>\n",
       "      <th>1</th>\n",
       "      <td>B</td>\n",
       "      <td>76627</td>\n",
       "      <td>9427</td>\n",
       "      <td>0.500072</td>\n",
       "      <td>0.687801</td>\n",
       "      <td>0.123025</td>\n",
       "      <td>348.804498</td>\n",
       "      <td>3288180.0</td>\n",
       "    </tr>\n",
       "  </tbody>\n",
       "</table>\n",
       "</div>"
      ],
      "text/plain": [
       "  grp  users_count  buyers_count  users_count_share  buyers_count_share  \\\n",
       "0   A        76605          4279           0.499928            0.312199   \n",
       "1   B        76627          9427           0.500072            0.687801   \n",
       "\n",
       "   conversion    avg_bill    revenue  \n",
       "0    0.055858  396.120589  1695000.0  \n",
       "1    0.123025  348.804498  3288180.0  "
      ]
     },
     "execution_count": 64,
     "metadata": {},
     "output_type": "execute_result"
    }
   ],
   "source": [
    "# Считаем общих доход\n",
    "ab_summary = ab_summary.merge(ab_data.groupby(['grp'], as_index = False)['price'].sum().rename(columns = {'price':'revenue'}), \n",
    "                 on='grp', how='left')\n",
    "ab_summary.set_index('grp', drop=True)\n",
    "ab_summary\n",
    "\n"
   ]
  },
  {
   "cell_type": "code",
   "execution_count": 65,
   "metadata": {},
   "outputs": [
    {
     "data": {
      "text/html": [
       "<div>\n",
       "<style scoped>\n",
       "    .dataframe tbody tr th:only-of-type {\n",
       "        vertical-align: middle;\n",
       "    }\n",
       "\n",
       "    .dataframe tbody tr th {\n",
       "        vertical-align: top;\n",
       "    }\n",
       "\n",
       "    .dataframe thead th {\n",
       "        text-align: right;\n",
       "    }\n",
       "</style>\n",
       "<table border=\"1\" class=\"dataframe\">\n",
       "  <thead>\n",
       "    <tr style=\"text-align: right;\">\n",
       "      <th></th>\n",
       "      <th>users_count</th>\n",
       "      <th>buyers_count</th>\n",
       "      <th>users_count_share</th>\n",
       "      <th>buyers_count_share</th>\n",
       "      <th>conversion</th>\n",
       "      <th>avg_bill</th>\n",
       "      <th>revenue</th>\n",
       "      <th>ARPU</th>\n",
       "    </tr>\n",
       "    <tr>\n",
       "      <th>grp</th>\n",
       "      <th></th>\n",
       "      <th></th>\n",
       "      <th></th>\n",
       "      <th></th>\n",
       "      <th></th>\n",
       "      <th></th>\n",
       "      <th></th>\n",
       "      <th></th>\n",
       "    </tr>\n",
       "  </thead>\n",
       "  <tbody>\n",
       "    <tr>\n",
       "      <th>A</th>\n",
       "      <td>76605</td>\n",
       "      <td>4279</td>\n",
       "      <td>0.499928</td>\n",
       "      <td>0.312199</td>\n",
       "      <td>0.055858</td>\n",
       "      <td>396.120589</td>\n",
       "      <td>1695000.0</td>\n",
       "      <td>22.126493</td>\n",
       "    </tr>\n",
       "    <tr>\n",
       "      <th>B</th>\n",
       "      <td>76627</td>\n",
       "      <td>9427</td>\n",
       "      <td>0.500072</td>\n",
       "      <td>0.687801</td>\n",
       "      <td>0.123025</td>\n",
       "      <td>348.804498</td>\n",
       "      <td>3288180.0</td>\n",
       "      <td>42.911506</td>\n",
       "    </tr>\n",
       "  </tbody>\n",
       "</table>\n",
       "</div>"
      ],
      "text/plain": [
       "     users_count  buyers_count  users_count_share  buyers_count_share  \\\n",
       "grp                                                                     \n",
       "A          76605          4279           0.499928            0.312199   \n",
       "B          76627          9427           0.500072            0.687801   \n",
       "\n",
       "     conversion    avg_bill    revenue       ARPU  \n",
       "grp                                                \n",
       "A      0.055858  396.120589  1695000.0  22.126493  \n",
       "B      0.123025  348.804498  3288180.0  42.911506  "
      ]
     },
     "execution_count": 65,
     "metadata": {},
     "output_type": "execute_result"
    }
   ],
   "source": [
    "# считаем arpu\n",
    "ab_summary['ARPU'] = ab_summary['revenue']/ab_summary['users_count']\n",
    "ab_summary = ab_summary.set_index('grp', drop=True)\n",
    "ab_summary\n"
   ]
  },
  {
   "cell_type": "code",
   "execution_count": 66,
   "metadata": {},
   "outputs": [
    {
     "data": {
      "text/html": [
       "<div>\n",
       "<style scoped>\n",
       "    .dataframe tbody tr th:only-of-type {\n",
       "        vertical-align: middle;\n",
       "    }\n",
       "\n",
       "    .dataframe tbody tr th {\n",
       "        vertical-align: top;\n",
       "    }\n",
       "\n",
       "    .dataframe thead th {\n",
       "        text-align: right;\n",
       "    }\n",
       "</style>\n",
       "<table border=\"1\" class=\"dataframe\">\n",
       "  <thead>\n",
       "    <tr style=\"text-align: right;\">\n",
       "      <th></th>\n",
       "      <th>users_count</th>\n",
       "      <th>buyers_count</th>\n",
       "      <th>users_count_share</th>\n",
       "      <th>buyers_count_share</th>\n",
       "      <th>conversion</th>\n",
       "      <th>avg_bill</th>\n",
       "      <th>revenue</th>\n",
       "      <th>ARPU</th>\n",
       "      <th>Доп. выручка</th>\n",
       "    </tr>\n",
       "    <tr>\n",
       "      <th>grp</th>\n",
       "      <th></th>\n",
       "      <th></th>\n",
       "      <th></th>\n",
       "      <th></th>\n",
       "      <th></th>\n",
       "      <th></th>\n",
       "      <th></th>\n",
       "      <th></th>\n",
       "      <th></th>\n",
       "    </tr>\n",
       "  </thead>\n",
       "  <tbody>\n",
       "    <tr>\n",
       "      <th>A</th>\n",
       "      <td>76605</td>\n",
       "      <td>4279</td>\n",
       "      <td>0.499928</td>\n",
       "      <td>0.312199</td>\n",
       "      <td>0.055858</td>\n",
       "      <td>396.120589</td>\n",
       "      <td>1695000.0</td>\n",
       "      <td>22.126493</td>\n",
       "      <td>0.000000e+00</td>\n",
       "    </tr>\n",
       "    <tr>\n",
       "      <th>B</th>\n",
       "      <td>76627</td>\n",
       "      <td>9427</td>\n",
       "      <td>0.500072</td>\n",
       "      <td>0.687801</td>\n",
       "      <td>0.123025</td>\n",
       "      <td>348.804498</td>\n",
       "      <td>3288180.0</td>\n",
       "      <td>42.911506</td>\n",
       "      <td>1.592693e+06</td>\n",
       "    </tr>\n",
       "  </tbody>\n",
       "</table>\n",
       "</div>"
      ],
      "text/plain": [
       "     users_count  buyers_count  users_count_share  buyers_count_share  \\\n",
       "grp                                                                     \n",
       "A          76605          4279           0.499928            0.312199   \n",
       "B          76627          9427           0.500072            0.687801   \n",
       "\n",
       "     conversion    avg_bill    revenue       ARPU  Доп. выручка  \n",
       "grp                                                              \n",
       "A      0.055858  396.120589  1695000.0  22.126493  0.000000e+00  \n",
       "B      0.123025  348.804498  3288180.0  42.911506  1.592693e+06  "
      ]
     },
     "execution_count": 66,
     "metadata": {},
     "output_type": "execute_result"
    }
   ],
   "source": [
    "# считаем дополнительную выручку\n",
    "ab_summary['Доп. выручка'] = ab_summary['users_count']*(ab_summary['ARPU'] - ab_summary.loc['A', 'ARPU'])\n",
    "\n",
    "\n",
    "ab_summary\n"
   ]
  },
  {
   "cell_type": "markdown",
   "metadata": {},
   "source": [
    "<a id=\"hypothesis\"></a>\n",
    "## Тестирование гипотез о разности параметров в группах A и B\n"
   ]
  },
  {
   "cell_type": "markdown",
   "metadata": {},
   "source": [
    "<a id=\"convertion\"></a>\n",
    "###  Конверсия \n",
    "\n",
    "Рассчитаем значимость изменения конверсии."
   ]
  },
  {
   "cell_type": "markdown",
   "metadata": {},
   "source": [
    "<b>Постановка гипотезы</b>\n",
    "- H0: конверсия в группе А = конверсия в группе В (или конверсия А - конверсия В = 0)\n",
    "- H1: конверсия в группе А < конверсия в группе В (конверсия А - конверсия В < 0) - т.е уровень конверсии вырос \n",
    "\n",
    "<b>Наблюдения</b>\n",
    "- выборочная конверсия в группе А = 0.055858,   количество пользователей в группе А = 76605\n",
    "- выборочная конверсия в группе В = 0.123025,   количество пользователей в группе В = 76627\n",
    "\n",
    "Если гипотеза H0 верна, тогда разность выборочных конверсий (или по-другому пропорций) распределена нормально (по ЦПТ при достаточно большом n выборки пропорция распределена нормально) с матожиданием равным нулю и известным стандартным отклонением. \n",
    "Исходя из этого мы можем найти z статистику и соответствующее p-value. \n",
    "\n",
    "В качестве уровня значимости альфа возьмем 0,05. \n"
   ]
  },
  {
   "cell_type": "code",
   "execution_count": 67,
   "metadata": {},
   "outputs": [
    {
     "name": "stdout",
     "output_type": "stream",
     "text": [
      " z статистика = -46.38627328408593 \n",
      " p-value = 0.0\n"
     ]
    }
   ],
   "source": [
    "z_test = ztest(ab_data.loc[ab_data.grp == 'A', 'price'].apply(lambda x: 1 if pd.notnull(x) else 0),#Конверсии пользователей группы А\n",
    "     ab_data.loc[ab_data.grp == 'B', 'price'].apply(lambda x: 1 if pd.notnull(x) else 0) #Конверсии пользователей группы B\n",
    "     ) \n",
    "\n",
    "print(' z статистика =', z_test[0], '\\n', 'p-value =', z_test[1])\n",
    "\n"
   ]
  },
  {
   "cell_type": "markdown",
   "metadata": {},
   "source": [
    "Таким образом, если H0 выполняется, то в данном случае вероятность получить наши наблюдаемые результаты настолько мала (значение p-value = 0.0 и явно меньше 0.05), что позволяет говорить о фактическом улучшении конверсии в группе В, то есть после введения скидки 30%. \n",
    "\n",
    "\n",
    "\n",
    "\n",
    "\n"
   ]
  },
  {
   "cell_type": "markdown",
   "metadata": {},
   "source": [
    "<a id=\"aov_arpu\"></a>\n",
    "### Средний чек и ARPU\n",
    "\n",
    "Теперь рассмотрим различия среднего чека и ARPU.\n",
    "\n"
   ]
  },
  {
   "cell_type": "markdown",
   "metadata": {},
   "source": [
    "#### Проверка распределения на нормальность, тест Шапиро-Вилка"
   ]
  },
  {
   "cell_type": "code",
   "execution_count": 68,
   "metadata": {},
   "outputs": [
    {
     "data": {
      "image/png": "[encoded data removed]",
      "text/plain": [
       "<Figure size 432x288 with 1 Axes>"
      ]
     },
     "metadata": {
      "needs_background": "light"
     },
     "output_type": "display_data"
    },
    {
     "name": "stdout",
     "output_type": "stream",
     "text": [
      "Shapiro-Wilk p-value is 0.0\n"
     ]
    },
    {
     "data": {
      "image/png": "[encoded data removed]",
      "text/plain": [
       "<Figure size 432x288 with 1 Axes>"
      ]
     },
     "metadata": {
      "needs_background": "light"
     },
     "output_type": "display_data"
    },
    {
     "name": "stdout",
     "output_type": "stream",
     "text": [
      "Shapiro-Wilk p-value is 0.0\n"
     ]
    },
    {
     "name": "stderr",
     "output_type": "stream",
     "text": [
      "/Users/lxndrarura/opt/anaconda3/lib/python3.8/site-packages/scipy/stats/morestats.py:1681: UserWarning: p-value may not be accurate for N > 5000.\n",
      "  warnings.warn(\"p-value may not be accurate for N > 5000.\")\n"
     ]
    }
   ],
   "source": [
    "ax = plt.subplot()\n",
    "ab_data.loc[ab_data.grp == 'A', 'price'].dropna().hist()\n",
    "ax.set_xlabel('Чек, руб')\n",
    "ax.set_ylabel('Количество пользователей')\n",
    "ax.set_title('Гистограмма распределения чеков на платящих пользователей')\n",
    "plt.show()\n",
    "print('Shapiro-Wilk p-value is', stats.shapiro(ab_data.loc[ab_data.grp == 'A', 'price'].dropna())[1])\n",
    "\n",
    "ax = plt.subplot()\n",
    "ab_data.loc[ab_data.grp == 'A', 'price'].fillna(0).hist()\n",
    "ax.set_xlabel('Выручка, руб')\n",
    "ax.set_ylabel('Количество пользователей')\n",
    "ax.set_title('Гистограмма распределения выручки на пользователей')\n",
    "plt.show()\n",
    "print('Shapiro-Wilk p-value is', stats.shapiro(ab_data.loc[ab_data.grp == 'A', 'price'].fillna(0))[1])\n",
    "\n",
    "\n",
    "    "
   ]
  },
  {
   "cell_type": "markdown",
   "metadata": {},
   "source": [
    "И визуальный анализ, и тест Шапиро-Вилка на нормальность говорят нам, что распределение не является нормальным (stats.shapiro выдаёт два числа, второе — p-значение сравнения нормального распределения и нашего).\n"
   ]
  },
  {
   "cell_type": "markdown",
   "metadata": {},
   "source": [
    "#### Тест Стьюдента и U-тест Манна-Уитни\n",
    "\n",
    "Так как распределения признаков не бинарные (0-1) и не нормальные, нужно использовать для сравнения средних не только T-тест, но и непараметрический U-тест Манна-Уитни. Несмотря на ненормальность распределения, в силу действия ЦПТ мы можем использовать Т-тест. \n",
    "\n",
    "\n",
    "U-тест сообщит, различаются ли сами распределения, а T-тест покажет, различаются ли средние этих распределений. При сравнении средних величин (например, ARPU) обычно важнее показатель p-значение для Т-теста: если он меньше 0,05, а p-значение теста Манна-Уитни больше 0,05, то это всё равно говорит о значимых различиях показателей."
   ]
  },
  {
   "cell_type": "markdown",
   "metadata": {},
   "source": [
    "#### Сравнение среднего чека\n",
    "\n",
    "<b>Постановка гипотезы</b>\n",
    "- H0: средний чек в группе А = средний чек в группе В (или средний чек А - средний чек В = 0)\n",
    "- H1: средний чек в группе A > средний чек в группе B (средний чек A - средний чек B > 0) - т.е средний чек в В упал \n",
    "\n",
    "<b>Наблюдения</b>\n",
    "- выборочное среднее чека в группе А = 396.12\n",
    "- выборочное среднее чека в группе В = 348.8\n",
    "- Нет оснований полагать, что истинные стандартные отклонения чека в A и B равны. \n",
    "\n",
    "Если гипотеза H0 верна, тогда разность выборочных средних чека распределена нормально с истинным матожиданием равным нулю и неизвестным нам истинным стандартным отклонением(по ЦПТ при достаточно большом n выборки ее выборочное среднее распределено нормально). \n",
    "Исходя из этого мы можем найти t статистику и соответствующее p-value. Также дополнительно проводим U-тест.\n",
    "\n",
    "В качестве уровня значимости альфа возьмем 0,05. \n",
    "\n",
    "\n"
   ]
  },
  {
   "cell_type": "code",
   "execution_count": 69,
   "metadata": {},
   "outputs": [
    {
     "name": "stdout",
     "output_type": "stream",
     "text": [
      "MannwhitneyuResult(statistic=28984683.0, pvalue=0.0)\n",
      "Ttest_indResult 7.945395534593604 0.0000000000000011253\n"
     ]
    }
   ],
   "source": [
    "# СРЕДНИЙ ЧЕК\n",
    "\n",
    "# alternative='greater' потому что альтернативная гипотеза H1 звучит как \n",
    "# \"разность средних значений чеков А и В БОЛЬШЕ чем ноль\"\n",
    "u_result_bill = stats.mannwhitneyu(ab_data.loc[ab_data.grp == 'A', 'price'].dropna(0), ab_data.loc[ab_data.grp == 'B', 'price'].dropna(0), \n",
    "                              alternative='greater')\n",
    "\n",
    "# usevar='unequal' потому чтро нет оснований полагать, что истинные средние отклонения в А и В равны \n",
    "# alternative='larger' потому что альтернативная гипотеза H1 звучит как \n",
    "# \"разность средних значений чеков А и В БОЛЬШЕ чем ноль\"\n",
    "t_result_bill = weightstats.ttest_ind(ab_data.loc[ab_data.grp == 'A', 'price'].dropna(0), ab_data.loc[ab_data.grp == 'B', 'price'].dropna(0),\n",
    "                     usevar='unequal', alternative='larger')\n",
    "\n",
    "print(u_result_bill)\n",
    "print('Ttest_indResult', t_result_bill[0], '{:.19f}'.format(t_result_bill[1]))\n",
    "\n"
   ]
  },
  {
   "cell_type": "markdown",
   "metadata": {},
   "source": [
    "Оба теста показали очень маленькое p-value, гораздо меньшее чем 0.05 (0.0 у Манна-Уитни и 0.0000000000000011253 у Стьюдента), что говорит о том, что если бы истинные матожидания чеков в А и В были бы равны, то вероятность получить наши наблюдаемые выборочные значения среднего чека была бы очень сильно мала, поэтому мы отвергаем нулевую гипотезу о равенстве средних чеков в пользу альтернативной и считаем, что средний чек в А действительно значимо больше чем в В.\n",
    "\n",
    "\n",
    "\n"
   ]
  },
  {
   "cell_type": "markdown",
   "metadata": {},
   "source": [
    "#### Сравнение ARPU\n",
    "\n",
    "<b>Постановка гипотезы</b>\n",
    "- H0: ARPU в группе А = ARPU в группе В (или ARPU А - ARPU В = 0)\n",
    "- H1: ARPU в группе A < ARPU в группе B (средний чек A - средний чек B < 0) - т.е ARPU в В выросло\n",
    "\n",
    "<b>Наблюдения</b>\n",
    "- выборочное ARPU в группе А = 22.13\n",
    "- выборочное ARPU в группе В = 42.91\n",
    "- Нет оснований полагать, что истинные стандартные отклонения доходов с каждого пользователя в A и B равны. \n",
    "\n",
    "Если гипотеза H0 верна, тогда разность выборочных ARPU в А и В распределена нормально с истинным матожиданием равным нулю и неизвестным нам истинным стандартным отклонением(по ЦПТ при достаточно большом n выборки ее выборочное среднее распределено нормально). \n",
    "Исходя из этого мы можем найти t статистику и соответствующее p-value. Также дополнительно проводим U-тест\n",
    "\n",
    "В качестве уровня значимости альфа возьмем 0,05. \n",
    "\n"
   ]
  },
  {
   "cell_type": "code",
   "execution_count": 70,
   "metadata": {},
   "outputs": [
    {
     "name": "stdout",
     "output_type": "stream",
     "text": [
      "MannwhitneyuResult(statistic=2746687083.0, pvalue=0.0)\n",
      "Ttest_indResult -29.894186199299803 0.0000000000000000000\n"
     ]
    }
   ],
   "source": [
    "# ARPU\n",
    "\n",
    "# alternative='less' потому что альтернативная гипотеза H1 звучит как \n",
    "# \"разность ARPU А и В МЕНЬШЕ чем ноль\"\n",
    "u_result_arpu = stats.mannwhitneyu(ab_data.loc[ab_data.grp == 'A', 'price'].fillna(0), ab_data.loc[ab_data.grp == 'B', 'price'].fillna(0), \n",
    "                              alternative='less')\n",
    "\n",
    "# usevar='unequal' потому чтро нет оснований полагать, что истинные средние отклонения в А и В равны \n",
    "# alternative='smaller' потому что альтернативная гипотеза H1 звучит как \n",
    "# \"разность ARPU А и В МЕНЬШЕ чем ноль\"\n",
    "t_result_arpu = weightstats.ttest_ind(ab_data.loc[ab_data.grp == 'A', 'price'].fillna(0), ab_data.loc[ab_data.grp == 'B', 'price'].fillna(0),\n",
    "                     usevar='unequal', alternative='smaller')\n",
    "\n",
    "print(u_result_arpu)\n",
    "print('Ttest_indResult', t_result_arpu[0], '{:.19f}'.format(t_result_arpu[1]))\n"
   ]
  },
  {
   "cell_type": "markdown",
   "metadata": {},
   "source": [
    "Оба теста показали очень маленькое p-value, гораздо меньшее чем 0.05, что говорит о том, что если бы истинные матожидания дохода с каждого пользователя в А и В были бы равны, то вероятность получить наши наблюдаемые выборочные ARPU была бы очень сильно мала, поэтому мы отвергаем нулевую гипотезу о равенстве ARPU в А и В и считаем, что ARPU в B действительно значимо больше чем в A."
   ]
  },
  {
   "cell_type": "markdown",
   "metadata": {},
   "source": [
    "## Доверительные интервалы \n",
    "\n",
    "Посчитаем доверительные интервалы для конверсии, arpu и среднего чека. \n"
   ]
  },
  {
   "cell_type": "code",
   "execution_count": 71,
   "metadata": {},
   "outputs": [],
   "source": [
    "#Функции для получения доверительных интервалов\n",
    "\n",
    "# Считает доверительные интервалы для средних\n",
    "def get_conf_interval(data, conf_level = 0.95):  \n",
    "        buf = (stats.t.interval(conf_level, len(data),\n",
    "                             loc=np.mean(data), scale=stats.sem(data)))\n",
    "        # возвращаем предел погрешности\n",
    "        return (buf[1] - buf[0])/2\n",
    "    \n",
    "#Считает доверительные интервалы для бинарных величин\n",
    "def get_conf_interval_z(succ, tot):  \n",
    "    buf = proportion_confint(succ, tot)\n",
    "    # возвращаем предел погрешности\n",
    "    return buf[1] - buf[0]\n",
    "\n"
   ]
  },
  {
   "cell_type": "code",
   "execution_count": 72,
   "metadata": {},
   "outputs": [
    {
     "data": {
      "text/plain": [
       "{'ARPU': {'A': 0.8641428736438357, 'B': 1.0537383983825563},\n",
       " 'avg_bill': {'A': 10.315428393735829, 'B': 5.467446406040892},\n",
       " 'conversion': {'A': 0.0032524511174824022, 'B': 0.004651325604805509}}"
      ]
     },
     "execution_count": 72,
     "metadata": {},
     "output_type": "execute_result"
    }
   ],
   "source": [
    "# Составляем словарь с доверительными интервалами для каждой метрики и для каждой группы\n",
    "conf_intervals = {\n",
    "    'ARPU': {'A': get_conf_interval(ab_data.loc[ab_data.grp == 'A', 'price'].fillna(0)) ,\n",
    "            'B': get_conf_interval(ab_data.loc[ab_data.grp == 'B', 'price'].fillna(0)) },\n",
    "    'avg_bill': {'A': get_conf_interval(ab_data.loc[ab_data.grp == 'A', 'price'].dropna(0)), \n",
    "                'B': get_conf_interval(ab_data.loc[ab_data.grp == 'B', 'price'].dropna(0)) },\n",
    "    'conversion': {'A': get_conf_interval_z(ab_data.loc[ab_data.grp == 'A', 'price'].dropna(0).count(), \n",
    "                                            ab_data.loc[ab_data.grp == 'A', 'user_id'].count()),\n",
    "                  'B': get_conf_interval_z(ab_data.loc[ab_data.grp == 'B', 'price'].dropna(0).count(), \n",
    "                                            ab_data.loc[ab_data.grp == 'B', 'user_id'].count())}\n",
    "}\n",
    "\n",
    "\n",
    "conf_intervals\n"
   ]
  },
  {
   "cell_type": "markdown",
   "metadata": {},
   "source": [
    "Группа А: \n",
    "- ARPU = (22.12 - 0.86; 22.12 + 0.86)\n",
    "- Средний чек = (396.12 - 10.32; 396.12 + 10.32)\n",
    "- Конверсия = (0.056 - 0.003; 0.56 + 0.003)\n",
    "\n",
    "Группа B:\n",
    "- ARPU = (42.91 - 1.05; 42.91 + 1.05)\n",
    "- Средний чек = (348.8 - 5.47; 348.8 + 5.47)\n",
    "- Конверсия = (0.12 - 0.005; 0.12 + 0.005)\n"
   ]
  },
  {
   "cell_type": "markdown",
   "metadata": {},
   "source": [
    "<a id=\"total\"></a>\n",
    "# Отчет"
   ]
  },
  {
   "cell_type": "code",
   "execution_count": 73,
   "metadata": {},
   "outputs": [],
   "source": [
    "# Удобная функция для подстановки подписей на barplot\n",
    "\n",
    "# Расставляет подписи столбцов на барплоты\n",
    "def set_labels(axes):\n",
    "    # Размер графика по оси Y\n",
    "    y0, y1 = axes.get_ybound()  \n",
    "    #Дополнительное место под надписи\n",
    "    y_shift = 0.15* (y1 - y0)  \n",
    "\n",
    "    # По всем нарисованным прямоугольникам\n",
    "    for i, rect in enumerate(axes.patches):  \n",
    "        height = rect.get_height()\n",
    "        if abs(height) <= 10000:\n",
    "            label = str(round(height, 2))\n",
    "            if label[-1] == '0':\n",
    "                label = label[:-1]\n",
    "        elif abs(height) <= 1000000:\n",
    "            label = str(round(height/1000, 1))\n",
    "            if label[-1] == '0':\n",
    "                label = label[:-1] + 'k'\n",
    "            else:\n",
    "                label = label + 'k'\n",
    "        else:\n",
    "            label = str(round(height/1000000, 2))\n",
    "            if label[-1] == '0':\n",
    "                label = label[:-1] + 'm'\n",
    "            else:\n",
    "                label = label + 'm'\n",
    "                #Посередине прямоугольника\n",
    "        x = rect.get_x() + rect.get_width() / 2\n",
    "        #Над прямоугольником в середине доп. места\n",
    "        y = height + y_shift * 0.8  \n",
    "        if height < 0:\n",
    "            y = y_shift * 0.8 \n",
    "        axes.text(x, y, label, ha='center', va='center', alpha = 0.7)\n",
    "        axes.set_ybound(y0, y1 + 1.5*y_shift)"
   ]
  },
  {
   "cell_type": "code",
   "execution_count": 74,
   "metadata": {},
   "outputs": [
    {
     "data": {
      "text/html": [
       "<div>\n",
       "<style scoped>\n",
       "    .dataframe tbody tr th:only-of-type {\n",
       "        vertical-align: middle;\n",
       "    }\n",
       "\n",
       "    .dataframe tbody tr th {\n",
       "        vertical-align: top;\n",
       "    }\n",
       "\n",
       "    .dataframe thead th {\n",
       "        text-align: right;\n",
       "    }\n",
       "</style>\n",
       "<table border=\"1\" class=\"dataframe\">\n",
       "  <thead>\n",
       "    <tr style=\"text-align: right;\">\n",
       "      <th>grp</th>\n",
       "      <th>A</th>\n",
       "      <th>B</th>\n",
       "    </tr>\n",
       "  </thead>\n",
       "  <tbody>\n",
       "    <tr>\n",
       "      <th>users_count</th>\n",
       "      <td>7.660500e+04</td>\n",
       "      <td>7.662700e+04</td>\n",
       "    </tr>\n",
       "    <tr>\n",
       "      <th>buyers_count</th>\n",
       "      <td>4.279000e+03</td>\n",
       "      <td>9.427000e+03</td>\n",
       "    </tr>\n",
       "    <tr>\n",
       "      <th>users_count_share</th>\n",
       "      <td>4.999282e-01</td>\n",
       "      <td>5.000718e-01</td>\n",
       "    </tr>\n",
       "    <tr>\n",
       "      <th>buyers_count_share</th>\n",
       "      <td>3.121990e-01</td>\n",
       "      <td>6.878010e-01</td>\n",
       "    </tr>\n",
       "    <tr>\n",
       "      <th>conversion</th>\n",
       "      <td>5.585797e-02</td>\n",
       "      <td>1.230245e-01</td>\n",
       "    </tr>\n",
       "    <tr>\n",
       "      <th>avg_bill</th>\n",
       "      <td>3.961206e+02</td>\n",
       "      <td>3.488045e+02</td>\n",
       "    </tr>\n",
       "    <tr>\n",
       "      <th>revenue</th>\n",
       "      <td>1.695000e+06</td>\n",
       "      <td>3.288180e+06</td>\n",
       "    </tr>\n",
       "    <tr>\n",
       "      <th>ARPU</th>\n",
       "      <td>2.212649e+01</td>\n",
       "      <td>4.291151e+01</td>\n",
       "    </tr>\n",
       "    <tr>\n",
       "      <th>Доп. выручка</th>\n",
       "      <td>0.000000e+00</td>\n",
       "      <td>1.592693e+06</td>\n",
       "    </tr>\n",
       "  </tbody>\n",
       "</table>\n",
       "</div>"
      ],
      "text/plain": [
       "grp                            A             B\n",
       "users_count         7.660500e+04  7.662700e+04\n",
       "buyers_count        4.279000e+03  9.427000e+03\n",
       "users_count_share   4.999282e-01  5.000718e-01\n",
       "buyers_count_share  3.121990e-01  6.878010e-01\n",
       "conversion          5.585797e-02  1.230245e-01\n",
       "avg_bill            3.961206e+02  3.488045e+02\n",
       "revenue             1.695000e+06  3.288180e+06\n",
       "ARPU                2.212649e+01  4.291151e+01\n",
       "Доп. выручка        0.000000e+00  1.592693e+06"
      ]
     },
     "execution_count": 74,
     "metadata": {},
     "output_type": "execute_result"
    }
   ],
   "source": [
    "#Транспонированная таблица для удобства использования\n",
    "plot_summary = ab_summary.T \n",
    "#Метрики со статзначимыми различиями\n",
    "significant_changes = ['conversion', 'avg_bill', 'ARPU'] \n",
    "plot_summary\n"
   ]
  },
  {
   "cell_type": "code",
   "execution_count": 75,
   "metadata": {},
   "outputs": [
    {
     "data": {
      "image/png": "[encoded data removed]",
      "text/plain": [
       "<Figure size 1008x432 with 9 Axes>"
      ]
     },
     "metadata": {
      "needs_background": "light"
     },
     "output_type": "display_data"
    }
   ],
   "source": [
    "from matplotlib import gridspec\n",
    "from math import ceil\n",
    "\n",
    "# Массив для складирования графиков\n",
    "ax = []\n",
    "# Количество картинок в одной линии\n",
    "n_pict_in_line = 4\n",
    "\n",
    "# Создаём сетку для графиков\n",
    "gs = gridspec.GridSpec(ceil(len(plot_summary) / float(n_pict_in_line)), n_pict_in_line)\n",
    "fig = plt.figure(figsize=(n_pict_in_line*3 + 2,\n",
    "                          ceil(len(plot_summary) / n_pict_in_line) * 2))\n",
    "\n",
    "## Считаем изменение метрики в процентах\n",
    "delta_percent = {}\n",
    "for row in plot_summary.index:  \n",
    "    if 'users_count' != row and 'buyers_count' != row and 'revenue' != row and \"Доп. выручка\" != row:\n",
    "        delta_percent[row] = '(' + str(round(plot_summary.loc[row, :].max()/\\\n",
    "                                  plot_summary.loc[row, :].min()*100 - 100, 1)) + '%)'\n",
    "        \n",
    "fig.suptitle('Результаты АБ-теста со скидками от 5 августа 2019 до 11 августа 2019')\n",
    "\n",
    "## Строим графики\n",
    "for i, col in enumerate(plot_summary.index):\n",
    "    # Добавляем subplot в нужную клетку\n",
    "    ax.append(plt.subplot(gs[i // n_pict_in_line, i % n_pict_in_line]))\n",
    "    # Строим график в нужной клетке\n",
    "    plot_summary.loc[[col], :].plot(kind='bar', rot=0, ax=ax[i], alpha=0.8,\n",
    "                                   yerr=conf_intervals[col] if col in conf_intervals else 0) # yerr для отображения доверительного интервала на грифике (черная полосочка)\n",
    "\n",
    "    \n",
    "# Редактируем подпись к графику, чтобы в ней хранилась информация о значимости различий    \n",
    "    stars = ' * ' if col in significant_changes else '' \n",
    "    ticks = ax[i].get_xticklabels()\n",
    "    ticks[0] = col + stars + delta_percent[col] if col in delta_percent else col + stars\n",
    "    ax[i].set_xticklabels(ticks)\n",
    "    ax[i].set_yticks([])\n",
    "    # добавляем подписи к столбцам\n",
    "    set_labels(axes=ax[i])\n"
   ]
  },
  {
   "cell_type": "markdown",
   "metadata": {},
   "source": [
    "В данном случае все полученные интересующие нас результаты показали статистически значимые результаты.\n",
    "\n",
    "- ARPU значимо вырос на 93.9%.\n",
    "- Конверсия значимо увеличилась на 120.2%.\n",
    "- Средний чек значимо упал на 13,6%.\n",
    "\n",
    "<b>Рекомендации</b>: \n",
    "- Можно проверить влияние размера скидки, чтобы найти максимально эффективную стратегию. Скидки можно подбирать и на основе какой-то модели (например, наиболее давним и лояльным пользователям давать более глубокие скидки), эффективность которой можно также сравнить со скидками.\n",
    "- В целом, скидки способствуют мгновенному увеличению выручки, поэтому их можно проводить время от времени. Через месяц можно будет посмотреть на этих же пользователей, чтобы узнать, больше ли приносят продления по сравнению с «нескидочными» пользователями.\n",
    "\n"
   ]
  },
  {
   "cell_type": "code",
   "execution_count": null,
   "metadata": {},
   "outputs": [],
   "source": []
  },
  {
   "cell_type": "code",
   "execution_count": null,
   "metadata": {},
   "outputs": [],
   "source": []
  }
 ],
 "metadata": {
  "kernelspec": {
   "display_name": "Python 3",
   "language": "python",
   "name": "python3"
  },
  "language_info": {
   "codemirror_mode": {
    "name": "ipython",
    "version": 3
   },
   "file_extension": ".py",
   "mimetype": "text/x-python",
   "name": "python",
   "nbconvert_exporter": "python",
   "pygments_lexer": "ipython3",
   "version": "3.8.8"
  }
 },
 "nbformat": 4,
 "nbformat_minor": 4
}
